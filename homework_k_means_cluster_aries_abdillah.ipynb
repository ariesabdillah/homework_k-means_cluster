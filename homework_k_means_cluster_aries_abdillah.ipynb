{
  "nbformat": 4,
  "nbformat_minor": 0,
  "metadata": {
    "colab": {
      "provenance": [],
      "authorship_tag": "ABX9TyPy6fynYpgs+LyQpe0oC9nQ",
      "include_colab_link": true
    },
    "kernelspec": {
      "name": "python3",
      "display_name": "Python 3"
    },
    "language_info": {
      "name": "python"
    }
  },
  "cells": [
    {
      "cell_type": "markdown",
      "metadata": {
        "id": "view-in-github",
        "colab_type": "text"
      },
      "source": [
        "<a href=\"https://colab.research.google.com/github/ariesabdillah/homework_k-means_cluster/blob/main/homework_k_means_cluster_aries_abdillah.ipynb\" target=\"_parent\"><img src=\"https://colab.research.google.com/assets/colab-badge.svg\" alt=\"Open In Colab\"/></a>"
      ]
    },
    {
      "cell_type": "markdown",
      "source": [
        "## Import Data"
      ],
      "metadata": {
        "id": "AxNNuhBrjOM0"
      }
    },
    {
      "cell_type": "code",
      "execution_count": 5,
      "metadata": {
        "colab": {
          "base_uri": "https://localhost:8080/"
        },
        "id": "WzxixNkqjDe0",
        "outputId": "e862662f-8d5a-4913-f598-a72a22172ed8"
      },
      "outputs": [
        {
          "output_type": "stream",
          "name": "stdout",
          "text": [
            "Mounted at /content/drive\n"
          ]
        }
      ],
      "source": [
        "from google.colab import drive\n",
        "drive.mount('/content/drive')"
      ]
    },
    {
      "cell_type": "code",
      "source": [
        "import pandas as pd\n",
        "df = pd.read_csv('/content/drive/MyDrive/Mall_Customers.csv')"
      ],
      "metadata": {
        "id": "uDYLEuCrmHKy"
      },
      "execution_count": 6,
      "outputs": []
    },
    {
      "cell_type": "code",
      "source": [
        "df.info()"
      ],
      "metadata": {
        "colab": {
          "base_uri": "https://localhost:8080/"
        },
        "id": "1Uee6XWgmv8_",
        "outputId": "736f2bd5-64e0-4b6a-fafc-69a7dde45ed4"
      },
      "execution_count": 7,
      "outputs": [
        {
          "output_type": "stream",
          "name": "stdout",
          "text": [
            "<class 'pandas.core.frame.DataFrame'>\n",
            "RangeIndex: 200 entries, 0 to 199\n",
            "Data columns (total 5 columns):\n",
            " #   Column      Non-Null Count  Dtype \n",
            "---  ------      --------------  ----- \n",
            " 0   CustomerID  200 non-null    int64 \n",
            " 1   Genre       200 non-null    object\n",
            " 2   Age         200 non-null    int64 \n",
            " 3   Income      200 non-null    int64 \n",
            " 4   Spending    200 non-null    int64 \n",
            "dtypes: int64(4), object(1)\n",
            "memory usage: 7.9+ KB\n"
          ]
        }
      ]
    },
    {
      "cell_type": "code",
      "source": [
        "df.head()"
      ],
      "metadata": {
        "colab": {
          "base_uri": "https://localhost:8080/",
          "height": 206
        },
        "id": "o178yQ4Lm03K",
        "outputId": "160a19f4-a4e8-4541-d344-7ebef040eb8d"
      },
      "execution_count": 4,
      "outputs": [
        {
          "output_type": "execute_result",
          "data": {
            "text/plain": [
              "   CustomerID   Genre  Age  Income  Spending\n",
              "0           1    Male   19      15        39\n",
              "1           2    Male   21      15        81\n",
              "2           3  Female   20      16         6\n",
              "3           4  Female   23      16        77\n",
              "4           5  Female   31      17        40"
            ],
            "text/html": [
              "\n",
              "  <div id=\"df-9c9bc456-c7b2-459d-a007-fae4b620851e\">\n",
              "    <div class=\"colab-df-container\">\n",
              "      <div>\n",
              "<style scoped>\n",
              "    .dataframe tbody tr th:only-of-type {\n",
              "        vertical-align: middle;\n",
              "    }\n",
              "\n",
              "    .dataframe tbody tr th {\n",
              "        vertical-align: top;\n",
              "    }\n",
              "\n",
              "    .dataframe thead th {\n",
              "        text-align: right;\n",
              "    }\n",
              "</style>\n",
              "<table border=\"1\" class=\"dataframe\">\n",
              "  <thead>\n",
              "    <tr style=\"text-align: right;\">\n",
              "      <th></th>\n",
              "      <th>CustomerID</th>\n",
              "      <th>Genre</th>\n",
              "      <th>Age</th>\n",
              "      <th>Income</th>\n",
              "      <th>Spending</th>\n",
              "    </tr>\n",
              "  </thead>\n",
              "  <tbody>\n",
              "    <tr>\n",
              "      <th>0</th>\n",
              "      <td>1</td>\n",
              "      <td>Male</td>\n",
              "      <td>19</td>\n",
              "      <td>15</td>\n",
              "      <td>39</td>\n",
              "    </tr>\n",
              "    <tr>\n",
              "      <th>1</th>\n",
              "      <td>2</td>\n",
              "      <td>Male</td>\n",
              "      <td>21</td>\n",
              "      <td>15</td>\n",
              "      <td>81</td>\n",
              "    </tr>\n",
              "    <tr>\n",
              "      <th>2</th>\n",
              "      <td>3</td>\n",
              "      <td>Female</td>\n",
              "      <td>20</td>\n",
              "      <td>16</td>\n",
              "      <td>6</td>\n",
              "    </tr>\n",
              "    <tr>\n",
              "      <th>3</th>\n",
              "      <td>4</td>\n",
              "      <td>Female</td>\n",
              "      <td>23</td>\n",
              "      <td>16</td>\n",
              "      <td>77</td>\n",
              "    </tr>\n",
              "    <tr>\n",
              "      <th>4</th>\n",
              "      <td>5</td>\n",
              "      <td>Female</td>\n",
              "      <td>31</td>\n",
              "      <td>17</td>\n",
              "      <td>40</td>\n",
              "    </tr>\n",
              "  </tbody>\n",
              "</table>\n",
              "</div>\n",
              "      <button class=\"colab-df-convert\" onclick=\"convertToInteractive('df-9c9bc456-c7b2-459d-a007-fae4b620851e')\"\n",
              "              title=\"Convert this dataframe to an interactive table.\"\n",
              "              style=\"display:none;\">\n",
              "        \n",
              "  <svg xmlns=\"http://www.w3.org/2000/svg\" height=\"24px\"viewBox=\"0 0 24 24\"\n",
              "       width=\"24px\">\n",
              "    <path d=\"M0 0h24v24H0V0z\" fill=\"none\"/>\n",
              "    <path d=\"M18.56 5.44l.94 2.06.94-2.06 2.06-.94-2.06-.94-.94-2.06-.94 2.06-2.06.94zm-11 1L8.5 8.5l.94-2.06 2.06-.94-2.06-.94L8.5 2.5l-.94 2.06-2.06.94zm10 10l.94 2.06.94-2.06 2.06-.94-2.06-.94-.94-2.06-.94 2.06-2.06.94z\"/><path d=\"M17.41 7.96l-1.37-1.37c-.4-.4-.92-.59-1.43-.59-.52 0-1.04.2-1.43.59L10.3 9.45l-7.72 7.72c-.78.78-.78 2.05 0 2.83L4 21.41c.39.39.9.59 1.41.59.51 0 1.02-.2 1.41-.59l7.78-7.78 2.81-2.81c.8-.78.8-2.07 0-2.86zM5.41 20L4 18.59l7.72-7.72 1.47 1.35L5.41 20z\"/>\n",
              "  </svg>\n",
              "      </button>\n",
              "      \n",
              "  <style>\n",
              "    .colab-df-container {\n",
              "      display:flex;\n",
              "      flex-wrap:wrap;\n",
              "      gap: 12px;\n",
              "    }\n",
              "\n",
              "    .colab-df-convert {\n",
              "      background-color: #E8F0FE;\n",
              "      border: none;\n",
              "      border-radius: 50%;\n",
              "      cursor: pointer;\n",
              "      display: none;\n",
              "      fill: #1967D2;\n",
              "      height: 32px;\n",
              "      padding: 0 0 0 0;\n",
              "      width: 32px;\n",
              "    }\n",
              "\n",
              "    .colab-df-convert:hover {\n",
              "      background-color: #E2EBFA;\n",
              "      box-shadow: 0px 1px 2px rgba(60, 64, 67, 0.3), 0px 1px 3px 1px rgba(60, 64, 67, 0.15);\n",
              "      fill: #174EA6;\n",
              "    }\n",
              "\n",
              "    [theme=dark] .colab-df-convert {\n",
              "      background-color: #3B4455;\n",
              "      fill: #D2E3FC;\n",
              "    }\n",
              "\n",
              "    [theme=dark] .colab-df-convert:hover {\n",
              "      background-color: #434B5C;\n",
              "      box-shadow: 0px 1px 3px 1px rgba(0, 0, 0, 0.15);\n",
              "      filter: drop-shadow(0px 1px 2px rgba(0, 0, 0, 0.3));\n",
              "      fill: #FFFFFF;\n",
              "    }\n",
              "  </style>\n",
              "\n",
              "      <script>\n",
              "        const buttonEl =\n",
              "          document.querySelector('#df-9c9bc456-c7b2-459d-a007-fae4b620851e button.colab-df-convert');\n",
              "        buttonEl.style.display =\n",
              "          google.colab.kernel.accessAllowed ? 'block' : 'none';\n",
              "\n",
              "        async function convertToInteractive(key) {\n",
              "          const element = document.querySelector('#df-9c9bc456-c7b2-459d-a007-fae4b620851e');\n",
              "          const dataTable =\n",
              "            await google.colab.kernel.invokeFunction('convertToInteractive',\n",
              "                                                     [key], {});\n",
              "          if (!dataTable) return;\n",
              "\n",
              "          const docLinkHtml = 'Like what you see? Visit the ' +\n",
              "            '<a target=\"_blank\" href=https://colab.research.google.com/notebooks/data_table.ipynb>data table notebook</a>'\n",
              "            + ' to learn more about interactive tables.';\n",
              "          element.innerHTML = '';\n",
              "          dataTable['output_type'] = 'display_data';\n",
              "          await google.colab.output.renderOutput(dataTable, element);\n",
              "          const docLink = document.createElement('div');\n",
              "          docLink.innerHTML = docLinkHtml;\n",
              "          element.appendChild(docLink);\n",
              "        }\n",
              "      </script>\n",
              "    </div>\n",
              "  </div>\n",
              "  "
            ]
          },
          "metadata": {},
          "execution_count": 4
        }
      ]
    },
    {
      "cell_type": "markdown",
      "source": [
        "## Transformasi Data"
      ],
      "metadata": {
        "id": "AXIvgJQsm94I"
      }
    },
    {
      "cell_type": "code",
      "source": [
        "df_transform = df.drop(columns =['Genre', 'Age','CustomerID' ]).values\n",
        "print(df_transform)\n"
      ],
      "metadata": {
        "colab": {
          "base_uri": "https://localhost:8080/"
        },
        "id": "2LDYoqeqm9JO",
        "outputId": "d791c420-d65f-4609-dc44-265d29584c0e"
      },
      "execution_count": 56,
      "outputs": [
        {
          "output_type": "stream",
          "name": "stdout",
          "text": [
            "[[ 15  39   4]\n",
            " [ 15  81   3]\n",
            " [ 16   6   4]\n",
            " [ 16  77   3]\n",
            " [ 17  40   4]\n",
            " [ 17  76   3]\n",
            " [ 18   6   4]\n",
            " [ 18  94   3]\n",
            " [ 19   3   4]\n",
            " [ 19  72   3]\n",
            " [ 19  14   4]\n",
            " [ 19  99   3]\n",
            " [ 20  15   4]\n",
            " [ 20  77   3]\n",
            " [ 20  13   4]\n",
            " [ 20  79   3]\n",
            " [ 21  35   4]\n",
            " [ 21  66   3]\n",
            " [ 23  29   4]\n",
            " [ 23  98   3]\n",
            " [ 24  35   4]\n",
            " [ 24  73   3]\n",
            " [ 25   5   4]\n",
            " [ 25  73   3]\n",
            " [ 28  14   4]\n",
            " [ 28  82   3]\n",
            " [ 28  32   4]\n",
            " [ 28  61   3]\n",
            " [ 29  31   4]\n",
            " [ 29  87   3]\n",
            " [ 30   4   4]\n",
            " [ 30  73   3]\n",
            " [ 33   4   4]\n",
            " [ 33  92   3]\n",
            " [ 33  14   4]\n",
            " [ 33  81   3]\n",
            " [ 34  17   4]\n",
            " [ 34  73   3]\n",
            " [ 37  26   4]\n",
            " [ 37  75   3]\n",
            " [ 38  35   4]\n",
            " [ 38  92   3]\n",
            " [ 39  36   4]\n",
            " [ 39  61   0]\n",
            " [ 39  28   4]\n",
            " [ 39  65   3]\n",
            " [ 40  55   0]\n",
            " [ 40  47   0]\n",
            " [ 40  42   0]\n",
            " [ 40  42   0]\n",
            " [ 42  52   0]\n",
            " [ 42  60   0]\n",
            " [ 43  54   0]\n",
            " [ 43  60   0]\n",
            " [ 43  45   0]\n",
            " [ 43  41   0]\n",
            " [ 44  50   0]\n",
            " [ 44  46   0]\n",
            " [ 46  51   0]\n",
            " [ 46  46   0]\n",
            " [ 46  56   0]\n",
            " [ 46  55   0]\n",
            " [ 47  52   0]\n",
            " [ 47  59   0]\n",
            " [ 48  51   0]\n",
            " [ 48  59   0]\n",
            " [ 48  50   0]\n",
            " [ 48  48   0]\n",
            " [ 48  59   0]\n",
            " [ 48  47   0]\n",
            " [ 49  55   0]\n",
            " [ 49  42   0]\n",
            " [ 50  49   0]\n",
            " [ 50  56   0]\n",
            " [ 54  47   0]\n",
            " [ 54  54   0]\n",
            " [ 54  53   0]\n",
            " [ 54  48   0]\n",
            " [ 54  52   0]\n",
            " [ 54  42   0]\n",
            " [ 54  51   0]\n",
            " [ 54  55   0]\n",
            " [ 54  41   0]\n",
            " [ 54  44   0]\n",
            " [ 54  57   0]\n",
            " [ 54  46   0]\n",
            " [ 57  58   0]\n",
            " [ 57  55   0]\n",
            " [ 58  60   0]\n",
            " [ 58  46   0]\n",
            " [ 59  55   0]\n",
            " [ 59  41   0]\n",
            " [ 60  49   0]\n",
            " [ 60  40   0]\n",
            " [ 60  42   0]\n",
            " [ 60  52   0]\n",
            " [ 60  47   0]\n",
            " [ 60  50   0]\n",
            " [ 61  42   0]\n",
            " [ 61  49   0]\n",
            " [ 62  41   0]\n",
            " [ 62  48   0]\n",
            " [ 62  59   0]\n",
            " [ 62  55   0]\n",
            " [ 62  56   0]\n",
            " [ 62  42   0]\n",
            " [ 63  50   0]\n",
            " [ 63  46   0]\n",
            " [ 63  43   0]\n",
            " [ 63  48   0]\n",
            " [ 63  52   0]\n",
            " [ 63  54   0]\n",
            " [ 64  42   0]\n",
            " [ 64  46   0]\n",
            " [ 65  48   0]\n",
            " [ 65  50   0]\n",
            " [ 65  43   0]\n",
            " [ 65  59   0]\n",
            " [ 67  43   0]\n",
            " [ 67  57   0]\n",
            " [ 67  56   0]\n",
            " [ 67  40   0]\n",
            " [ 69  58   0]\n",
            " [ 69  91   2]\n",
            " [ 70  29   1]\n",
            " [ 70  77   2]\n",
            " [ 71  35   0]\n",
            " [ 71  95   2]\n",
            " [ 71  11   1]\n",
            " [ 71  75   2]\n",
            " [ 71   9   1]\n",
            " [ 71  75   2]\n",
            " [ 72  34   0]\n",
            " [ 72  71   2]\n",
            " [ 73   5   1]\n",
            " [ 73  88   2]\n",
            " [ 73   7   1]\n",
            " [ 73  73   2]\n",
            " [ 74  10   1]\n",
            " [ 74  72   2]\n",
            " [ 75   5   1]\n",
            " [ 75  93   2]\n",
            " [ 76  40   0]\n",
            " [ 76  87   2]\n",
            " [ 77  12   1]\n",
            " [ 77  97   2]\n",
            " [ 77  36   1]\n",
            " [ 77  74   2]\n",
            " [ 78  22   1]\n",
            " [ 78  90   2]\n",
            " [ 78  17   1]\n",
            " [ 78  88   2]\n",
            " [ 78  20   1]\n",
            " [ 78  76   2]\n",
            " [ 78  16   1]\n",
            " [ 78  89   2]\n",
            " [ 78   1   1]\n",
            " [ 78  78   2]\n",
            " [ 78   1   1]\n",
            " [ 78  73   2]\n",
            " [ 79  35   1]\n",
            " [ 79  83   2]\n",
            " [ 81   5   1]\n",
            " [ 81  93   2]\n",
            " [ 85  26   1]\n",
            " [ 85  75   2]\n",
            " [ 86  20   1]\n",
            " [ 86  95   2]\n",
            " [ 87  27   1]\n",
            " [ 87  63   2]\n",
            " [ 87  13   1]\n",
            " [ 87  75   2]\n",
            " [ 87  10   1]\n",
            " [ 87  92   2]\n",
            " [ 88  13   1]\n",
            " [ 88  86   2]\n",
            " [ 88  15   1]\n",
            " [ 88  69   2]\n",
            " [ 93  14   1]\n",
            " [ 93  90   2]\n",
            " [ 97  32   1]\n",
            " [ 97  86   2]\n",
            " [ 98  15   1]\n",
            " [ 98  88   2]\n",
            " [ 99  39   1]\n",
            " [ 99  97   2]\n",
            " [101  24   1]\n",
            " [101  68   2]\n",
            " [103  17   1]\n",
            " [103  85   2]\n",
            " [103  23   1]\n",
            " [103  69   2]\n",
            " [113   8   1]\n",
            " [113  91   2]\n",
            " [120  16   1]\n",
            " [120  79   2]\n",
            " [126  28   1]\n",
            " [126  74   2]\n",
            " [137  18   1]\n",
            " [137  83   2]]\n"
          ]
        }
      ]
    },
    {
      "cell_type": "markdown",
      "source": [
        "## Recrtuitment"
      ],
      "metadata": {
        "id": "_rSzuqPznolo"
      }
    },
    {
      "cell_type": "code",
      "source": [
        "!pip install kneed"
      ],
      "metadata": {
        "colab": {
          "base_uri": "https://localhost:8080/"
        },
        "id": "eFblkKAMoU2P",
        "outputId": "da5749a8-fa30-49e8-e154-980debb4b3ab"
      },
      "execution_count": 6,
      "outputs": [
        {
          "output_type": "stream",
          "name": "stdout",
          "text": [
            "Looking in indexes: https://pypi.org/simple, https://us-python.pkg.dev/colab-wheels/public/simple/\n",
            "Collecting kneed\n",
            "  Downloading kneed-0.8.2-py3-none-any.whl (10 kB)\n",
            "Requirement already satisfied: scipy>=1.0.0 in /usr/local/lib/python3.9/dist-packages (from kneed) (1.10.1)\n",
            "Requirement already satisfied: numpy>=1.14.2 in /usr/local/lib/python3.9/dist-packages (from kneed) (1.22.4)\n",
            "Installing collected packages: kneed\n",
            "Successfully installed kneed-0.8.2\n"
          ]
        }
      ]
    },
    {
      "cell_type": "code",
      "source": [
        "import pandas as pd\n",
        "import numpy as np\n",
        "import matplotlib.pyplot as plt \n",
        "import seaborn as sns\n",
        "from sklearn.cluster import KMeans \n",
        "from sklearn.metrics import silhouette_score\n",
        "from sklearn.preprocessing import MinMaxScaler"
      ],
      "metadata": {
        "id": "8-FZimGwnn2i"
      },
      "execution_count": 4,
      "outputs": []
    },
    {
      "cell_type": "markdown",
      "source": [
        "## Membuat Graph Scatterplot"
      ],
      "metadata": {
        "id": "iy_aHH_TWrLh"
      }
    },
    {
      "cell_type": "code",
      "source": [
        "sns.scatterplot(x=\"Income\", y=\"Spending\", data= df, s=100, color=\"blue\", alpha = 0.5)"
      ],
      "metadata": {
        "colab": {
          "base_uri": "https://localhost:8080/",
          "height": 296
        },
        "id": "9vAvhpKaLtJx",
        "outputId": "b3b25a3d-d15c-4ae7-e281-8c1009b15ef8"
      },
      "execution_count": 9,
      "outputs": [
        {
          "output_type": "execute_result",
          "data": {
            "text/plain": [
              "<AxesSubplot:xlabel='Income', ylabel='Spending'>"
            ]
          },
          "metadata": {},
          "execution_count": 9
        },
        {
          "output_type": "display_data",
          "data": {
            "text/plain": [
              "<Figure size 432x288 with 1 Axes>"
            ],
            "image/png": "[encoded data removed]"
          },
          "metadata": {
            "needs_background": "light"
          }
        }
      ]
    },
    {
      "cell_type": "markdown",
      "source": [
        "## Mencari jumlah cluster menggunakan elbow method"
      ],
      "metadata": {
        "id": "YoTkBEthW3nU"
      }
    },
    {
      "cell_type": "code",
      "source": [
        "from sklearn.cluster import KMeans\n",
        "elbow=[]\n",
        "for i in range(1, 20):\n",
        "    kmeans = KMeans(n_clusters = i, init = 'k-means++', random_state = 101)\n",
        "    kmeans.fit(df_transform)\n",
        "    elbow.append(kmeans.inertia_)"
      ],
      "metadata": {
        "colab": {
          "base_uri": "https://localhost:8080/"
        },
        "id": "4ryrxgKRWWrC",
        "outputId": "1c00e74b-770e-4c8e-ca4d-4f5aa2f9ab81"
      },
      "execution_count": 57,
      "outputs": [
        {
          "output_type": "stream",
          "name": "stderr",
          "text": [
            "/usr/local/lib/python3.9/dist-packages/sklearn/cluster/_kmeans.py:870: FutureWarning: The default value of `n_init` will change from 10 to 'auto' in 1.4. Set the value of `n_init` explicitly to suppress the warning\n",
            "  warnings.warn(\n",
            "/usr/local/lib/python3.9/dist-packages/sklearn/cluster/_kmeans.py:870: FutureWarning: The default value of `n_init` will change from 10 to 'auto' in 1.4. Set the value of `n_init` explicitly to suppress the warning\n",
            "  warnings.warn(\n",
            "/usr/local/lib/python3.9/dist-packages/sklearn/cluster/_kmeans.py:870: FutureWarning: The default value of `n_init` will change from 10 to 'auto' in 1.4. Set the value of `n_init` explicitly to suppress the warning\n",
            "  warnings.warn(\n",
            "/usr/local/lib/python3.9/dist-packages/sklearn/cluster/_kmeans.py:870: FutureWarning: The default value of `n_init` will change from 10 to 'auto' in 1.4. Set the value of `n_init` explicitly to suppress the warning\n",
            "  warnings.warn(\n",
            "/usr/local/lib/python3.9/dist-packages/sklearn/cluster/_kmeans.py:870: FutureWarning: The default value of `n_init` will change from 10 to 'auto' in 1.4. Set the value of `n_init` explicitly to suppress the warning\n",
            "  warnings.warn(\n",
            "/usr/local/lib/python3.9/dist-packages/sklearn/cluster/_kmeans.py:870: FutureWarning: The default value of `n_init` will change from 10 to 'auto' in 1.4. Set the value of `n_init` explicitly to suppress the warning\n",
            "  warnings.warn(\n",
            "/usr/local/lib/python3.9/dist-packages/sklearn/cluster/_kmeans.py:870: FutureWarning: The default value of `n_init` will change from 10 to 'auto' in 1.4. Set the value of `n_init` explicitly to suppress the warning\n",
            "  warnings.warn(\n",
            "/usr/local/lib/python3.9/dist-packages/sklearn/cluster/_kmeans.py:870: FutureWarning: The default value of `n_init` will change from 10 to 'auto' in 1.4. Set the value of `n_init` explicitly to suppress the warning\n",
            "  warnings.warn(\n",
            "/usr/local/lib/python3.9/dist-packages/sklearn/cluster/_kmeans.py:870: FutureWarning: The default value of `n_init` will change from 10 to 'auto' in 1.4. Set the value of `n_init` explicitly to suppress the warning\n",
            "  warnings.warn(\n",
            "/usr/local/lib/python3.9/dist-packages/sklearn/cluster/_kmeans.py:870: FutureWarning: The default value of `n_init` will change from 10 to 'auto' in 1.4. Set the value of `n_init` explicitly to suppress the warning\n",
            "  warnings.warn(\n",
            "/usr/local/lib/python3.9/dist-packages/sklearn/cluster/_kmeans.py:870: FutureWarning: The default value of `n_init` will change from 10 to 'auto' in 1.4. Set the value of `n_init` explicitly to suppress the warning\n",
            "  warnings.warn(\n",
            "/usr/local/lib/python3.9/dist-packages/sklearn/cluster/_kmeans.py:870: FutureWarning: The default value of `n_init` will change from 10 to 'auto' in 1.4. Set the value of `n_init` explicitly to suppress the warning\n",
            "  warnings.warn(\n",
            "/usr/local/lib/python3.9/dist-packages/sklearn/cluster/_kmeans.py:870: FutureWarning: The default value of `n_init` will change from 10 to 'auto' in 1.4. Set the value of `n_init` explicitly to suppress the warning\n",
            "  warnings.warn(\n",
            "/usr/local/lib/python3.9/dist-packages/sklearn/cluster/_kmeans.py:870: FutureWarning: The default value of `n_init` will change from 10 to 'auto' in 1.4. Set the value of `n_init` explicitly to suppress the warning\n",
            "  warnings.warn(\n",
            "/usr/local/lib/python3.9/dist-packages/sklearn/cluster/_kmeans.py:870: FutureWarning: The default value of `n_init` will change from 10 to 'auto' in 1.4. Set the value of `n_init` explicitly to suppress the warning\n",
            "  warnings.warn(\n",
            "/usr/local/lib/python3.9/dist-packages/sklearn/cluster/_kmeans.py:870: FutureWarning: The default value of `n_init` will change from 10 to 'auto' in 1.4. Set the value of `n_init` explicitly to suppress the warning\n",
            "  warnings.warn(\n",
            "/usr/local/lib/python3.9/dist-packages/sklearn/cluster/_kmeans.py:870: FutureWarning: The default value of `n_init` will change from 10 to 'auto' in 1.4. Set the value of `n_init` explicitly to suppress the warning\n",
            "  warnings.warn(\n",
            "/usr/local/lib/python3.9/dist-packages/sklearn/cluster/_kmeans.py:870: FutureWarning: The default value of `n_init` will change from 10 to 'auto' in 1.4. Set the value of `n_init` explicitly to suppress the warning\n",
            "  warnings.warn(\n",
            "/usr/local/lib/python3.9/dist-packages/sklearn/cluster/_kmeans.py:870: FutureWarning: The default value of `n_init` will change from 10 to 'auto' in 1.4. Set the value of `n_init` explicitly to suppress the warning\n",
            "  warnings.warn(\n"
          ]
        }
      ]
    },
    {
      "cell_type": "code",
      "source": [
        "import seaborn as sns\n",
        "sns.lineplot(range(1, 20), elbow,color='blue')\n",
        "plt.rcParams.update({'figure.figsize':(10,7.5), 'figure.dpi':100})\n",
        "plt.title('ELBOW METHOD')\n",
        "plt.show()"
      ],
      "metadata": {
        "colab": {
          "base_uri": "https://localhost:8080/",
          "height": 704
        },
        "id": "StDwm4YvWeoF",
        "outputId": "83531eb5-09d7-47e0-f9de-0ce600775722"
      },
      "execution_count": 58,
      "outputs": [
        {
          "output_type": "stream",
          "name": "stderr",
          "text": [
            "/usr/local/lib/python3.9/dist-packages/seaborn/_decorators.py:36: FutureWarning: Pass the following variables as keyword args: x, y. From version 0.12, the only valid positional argument will be `data`, and passing other arguments without an explicit keyword will result in an error or misinterpretation.\n",
            "  warnings.warn(\n"
          ]
        },
        {
          "output_type": "display_data",
          "data": {
            "text/plain": [
              "<Figure size 1000x750 with 1 Axes>"
            ],
            "image/png": "[encoded data removed]"
          },
          "metadata": {
            "needs_background": "light"
          }
        }
      ]
    },
    {
      "cell_type": "markdown",
      "source": [
        "dari grafik diatas dapat dilihat bahwa grafik mulai mendatar ketika mancapai jumlah klaster 5, sehingga dapat digunakan 5 sebagai jumlah kluster"
      ],
      "metadata": {
        "id": "fFXGmV2sXFgH"
      }
    },
    {
      "cell_type": "markdown",
      "source": [
        "## Klaster dengan jumlah klaster 5"
      ],
      "metadata": {
        "id": "sL-6_LNXg9i7"
      }
    },
    {
      "cell_type": "code",
      "source": [
        "Melakukan kluster dengan jumlah kluster 5"
      ],
      "metadata": {
        "id": "LmRwK7e0g5Xz"
      },
      "execution_count": null,
      "outputs": []
    },
    {
      "cell_type": "code",
      "source": [
        "kmeans = KMeans(n_clusters = 5, init = 'k-means++', random_state = 101)\n",
        "y_pred = kmeans.fit_predict(df_transform)"
      ],
      "metadata": {
        "colab": {
          "base_uri": "https://localhost:8080/"
        },
        "id": "lmGoEuWLZRew",
        "outputId": "a6d47451-e134-4799-face-c13e9d7279df"
      },
      "execution_count": 59,
      "outputs": [
        {
          "output_type": "stream",
          "name": "stderr",
          "text": [
            "/usr/local/lib/python3.9/dist-packages/sklearn/cluster/_kmeans.py:870: FutureWarning: The default value of `n_init` will change from 10 to 'auto' in 1.4. Set the value of `n_init` explicitly to suppress the warning\n",
            "  warnings.warn(\n"
          ]
        }
      ]
    },
    {
      "cell_type": "code",
      "source": [
        "print(df)"
      ],
      "metadata": {
        "colab": {
          "base_uri": "https://localhost:8080/"
        },
        "id": "q8amaCHXZYje",
        "outputId": "55efd996-ad1f-4846-b9b5-a9e1309307d4"
      },
      "execution_count": 60,
      "outputs": [
        {
          "output_type": "stream",
          "name": "stdout",
          "text": [
            "     CustomerID   Genre  Age  Income  Spending  klaster\n",
            "0             1    Male   19      15        39        4\n",
            "1             2    Male   21      15        81        3\n",
            "2             3  Female   20      16         6        4\n",
            "3             4  Female   23      16        77        3\n",
            "4             5  Female   31      17        40        4\n",
            "..          ...     ...  ...     ...       ...      ...\n",
            "195         196  Female   35     120        79        2\n",
            "196         197  Female   45     126        28        1\n",
            "197         198    Male   32     126        74        2\n",
            "198         199    Male   32     137        18        1\n",
            "199         200    Male   30     137        83        2\n",
            "\n",
            "[200 rows x 6 columns]\n"
          ]
        }
      ]
    },
    {
      "cell_type": "markdown",
      "source": [
        "## Visualisasi data setelah dikelompokkan"
      ],
      "metadata": {
        "id": "n6BAxxNHhHYB"
      }
    },
    {
      "cell_type": "code",
      "source": [
        "plt.figure(figsize=(15,7.5))\n",
        "sns.scatterplot(df_transform[y_pred == 0, 0], df_transform[y_pred == 0, 1],s=50)\n",
        "sns.scatterplot(df_transform[y_pred == 1, 0], df_transform[y_pred == 1, 1],s=50)\n",
        "sns.scatterplot(df_transform[y_pred == 2, 0], df_transform[y_pred == 2, 1],s=50)\n",
        "sns.scatterplot(df_transform[y_pred == 3, 0], df_transform[y_pred == 3, 1],s=50)\n",
        "sns.scatterplot(df_transform[y_pred == 4, 0], df_transform[y_pred == 4, 1],s=50)\n",
        "plt.title('Clusters')\n",
        "plt.legend()\n",
        "plt.show()"
      ],
      "metadata": {
        "colab": {
          "base_uri": "https://localhost:8080/",
          "height": 693
        },
        "id": "pFPODdw8b1pW",
        "outputId": "ae3bb40d-a79e-4ad4-81b8-adbc55be3719"
      },
      "execution_count": 61,
      "outputs": [
        {
          "output_type": "stream",
          "name": "stderr",
          "text": [
            "/usr/local/lib/python3.9/dist-packages/seaborn/_decorators.py:36: FutureWarning: Pass the following variables as keyword args: x, y. From version 0.12, the only valid positional argument will be `data`, and passing other arguments without an explicit keyword will result in an error or misinterpretation.\n",
            "  warnings.warn(\n",
            "/usr/local/lib/python3.9/dist-packages/seaborn/_decorators.py:36: FutureWarning: Pass the following variables as keyword args: x, y. From version 0.12, the only valid positional argument will be `data`, and passing other arguments without an explicit keyword will result in an error or misinterpretation.\n",
            "  warnings.warn(\n",
            "/usr/local/lib/python3.9/dist-packages/seaborn/_decorators.py:36: FutureWarning: Pass the following variables as keyword args: x, y. From version 0.12, the only valid positional argument will be `data`, and passing other arguments without an explicit keyword will result in an error or misinterpretation.\n",
            "  warnings.warn(\n",
            "/usr/local/lib/python3.9/dist-packages/seaborn/_decorators.py:36: FutureWarning: Pass the following variables as keyword args: x, y. From version 0.12, the only valid positional argument will be `data`, and passing other arguments without an explicit keyword will result in an error or misinterpretation.\n",
            "  warnings.warn(\n",
            "/usr/local/lib/python3.9/dist-packages/seaborn/_decorators.py:36: FutureWarning: Pass the following variables as keyword args: x, y. From version 0.12, the only valid positional argument will be `data`, and passing other arguments without an explicit keyword will result in an error or misinterpretation.\n",
            "  warnings.warn(\n",
            "WARNING:matplotlib.legend:No artists with labels found to put in legend.  Note that artists whose label start with an underscore are ignored when legend() is called with no argument.\n"
          ]
        },
        {
          "output_type": "display_data",
          "data": {
            "text/plain": [
              "<Figure size 1500x750 with 1 Axes>"
            ],
            "image/png": "[encoded data removed]"
          },
          "metadata": {
            "needs_background": "light"
          }
        }
      ]
    },
    {
      "cell_type": "code",
      "source": [
        "plt.figure(figsize=(15,7.5))\n",
        "sns.scatterplot(df_transform[y_pred == 0, 0], df_transform[y_pred == 0, 1],s=50)\n",
        "sns.scatterplot(df_transform[y_pred == 1, 0], df_transform[y_pred == 1, 1],s=50)\n",
        "sns.scatterplot(df_transform[y_pred == 2, 0], df_transform[y_pred == 2, 1],s=50)\n",
        "sns.scatterplot(df_transform[y_pred == 3, 0], df_transform[y_pred == 3, 1],s=50)\n",
        "sns.scatterplot(df_transform[y_pred == 4, 0], df_transform[y_pred == 4, 1],s=50)\n",
        "sns.scatterplot(kmeans.cluster_centers_[:, 0], kmeans.cluster_centers_[:, 1],s=500,color='yellow')\n",
        "plt.title('Clusters')\n",
        "plt.legend()\n",
        "plt.show()"
      ],
      "metadata": {
        "colab": {
          "base_uri": "https://localhost:8080/",
          "height": 728
        },
        "id": "Sep-OqjXdVMl",
        "outputId": "fdc1d701-6b75-41a3-e79e-05d080cdc313"
      },
      "execution_count": 62,
      "outputs": [
        {
          "output_type": "stream",
          "name": "stderr",
          "text": [
            "/usr/local/lib/python3.9/dist-packages/seaborn/_decorators.py:36: FutureWarning: Pass the following variables as keyword args: x, y. From version 0.12, the only valid positional argument will be `data`, and passing other arguments without an explicit keyword will result in an error or misinterpretation.\n",
            "  warnings.warn(\n",
            "/usr/local/lib/python3.9/dist-packages/seaborn/_decorators.py:36: FutureWarning: Pass the following variables as keyword args: x, y. From version 0.12, the only valid positional argument will be `data`, and passing other arguments without an explicit keyword will result in an error or misinterpretation.\n",
            "  warnings.warn(\n",
            "/usr/local/lib/python3.9/dist-packages/seaborn/_decorators.py:36: FutureWarning: Pass the following variables as keyword args: x, y. From version 0.12, the only valid positional argument will be `data`, and passing other arguments without an explicit keyword will result in an error or misinterpretation.\n",
            "  warnings.warn(\n",
            "/usr/local/lib/python3.9/dist-packages/seaborn/_decorators.py:36: FutureWarning: Pass the following variables as keyword args: x, y. From version 0.12, the only valid positional argument will be `data`, and passing other arguments without an explicit keyword will result in an error or misinterpretation.\n",
            "  warnings.warn(\n",
            "/usr/local/lib/python3.9/dist-packages/seaborn/_decorators.py:36: FutureWarning: Pass the following variables as keyword args: x, y. From version 0.12, the only valid positional argument will be `data`, and passing other arguments without an explicit keyword will result in an error or misinterpretation.\n",
            "  warnings.warn(\n",
            "/usr/local/lib/python3.9/dist-packages/seaborn/_decorators.py:36: FutureWarning: Pass the following variables as keyword args: x, y. From version 0.12, the only valid positional argument will be `data`, and passing other arguments without an explicit keyword will result in an error or misinterpretation.\n",
            "  warnings.warn(\n",
            "WARNING:matplotlib.legend:No artists with labels found to put in legend.  Note that artists whose label start with an underscore are ignored when legend() is called with no argument.\n"
          ]
        },
        {
          "output_type": "display_data",
          "data": {
            "text/plain": [
              "<Figure size 1500x750 with 1 Axes>"
            ],
            "image/png": "[encoded data removed]"
          },
          "metadata": {
            "needs_background": "light"
          }
        }
      ]
    },
    {
      "cell_type": "markdown",
      "source": [
        "dari grafik diatas dapat disimpulkan bahwa terdapat 5 jumlah klaster, yaitu klaster 0 diwarnai dengan warna merah menandakan bahwa memiliki spending dan income yang rendah. klaster 1 berwarna orange menandakan memiliki income tinggi, tetapi spending yang rendah. klaster 2 diwarnai dengan warna biru menandakan memiliki spending dan income berada diantara rendah dan tinggi.  klaster 4 diwarnai dengan warna ungu menandakan memiliki income rendah, tetapi spending yang tinggi. klaster 4 diwarnai dengan warna hijau menandakan memiliki income dan spending yang tinggi"
      ],
      "metadata": {
        "id": "bt_77gdZYgH6"
      }
    }
  ]
}